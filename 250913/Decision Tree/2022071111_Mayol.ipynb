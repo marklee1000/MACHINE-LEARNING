{
 "cells": [
  {
   "cell_type": "code",
   "execution_count": null,
   "id": "bd7c5334-77e3-4489-839b-5ece93596fb6",
   "metadata": {},
   "outputs": [],
   "source": [
    "# Import necessary libraries\n",
    "import numpy as np\n",
    "import matplotlib.pyplot as plt\n",
    "from sklearn.model_selection import train_test_split\n",
    "from sklearn.tree import DecisionTreeRegressor\n",
    "from sklearn.metrics import mean_squared_error, r2_score\n",
    "\n",
    "# 1. Create a simulated non-linear dataset\n",
    "# We'll simulate a relationship that is not a single line or curve.\n",
    "np.random.seed(0)\n",
    "\n",
    "# Independent variable (feature): X\n",
    "X = np.sort(5 * np.random.rand(80, 1), axis=0)\n",
    "\n",
    "# Dependent variable (target): y, with a non-linear relationship and noise\n",
    "y = np.sin(X) + 2 * np.cos(X) + np.random.randn(80, 1) * 0.5\n",
    "\n",
    "print(\"Dataset created successfully. It shows a non-linear relationship.\")\n",
    "print(\"Sample data points (X, y):\")\n",
    "for i in range(5):\n",
    "    print(f\"({X[i][0]:.2f}, {y[i][0]:.2f})\")\n",
    "\n",
    "# 2. Split the data into training and testing sets\n",
    "X_train, X_test, y_train, y_test = train_test_split(X, y, test_size=0.3, random_state=42)\n",
    "\n",
    "print(f\"\\nData split: {len(X_train)} training samples, {len(X_test)} testing samples.\")\n",
    "\n",
    "# 3. Train the Decision Tree Regressor model\n",
    "# We'll use a Decision Tree with a max depth to control its complexity.\n",
    "# A deeper tree can model more complex relationships but may overfit.\n",
    "tree_model = DecisionTreeRegressor(max_depth=5, random_state=42)\n",
    "tree_model.fit(X_train, y_train)\n",
    "\n",
    "print(\"Decision Tree model training complete.\")\n",
    "\n",
    "# 4. Make predictions on the testing data\n",
    "y_pred = tree_model.predict(X_test)\n",
    "\n",
    "print(\"Predictions made successfully.\")\n",
    "print(\"\\nSample predictions:\")\n",
    "for i in range(min(5, len(y_test))):\n",
    "    print(f\"  Actual: {y_test[i][0]:.2f}, Predicted: {y_pred[i]:.2f}\")\n",
    "\n",
    "# 5. Evaluate the model's performance\n",
    "mse = mean_squared_error(y_test, y_pred)\n"
   ]
  }
 ],
 "metadata": {
  "kernelspec": {
   "display_name": "Python 3 (ipykernel)",
   "language": "python",
   "name": "python3"
  },
  "language_info": {
   "codemirror_mode": {
    "name": "ipython",
    "version": 3
   },
   "file_extension": ".py",
   "mimetype": "text/x-python",
   "name": "python",
   "nbconvert_exporter": "python",
   "pygments_lexer": "ipython3",
   "version": "3.11.7"
  }
 },
 "nbformat": 4,
 "nbformat_minor": 5
}
